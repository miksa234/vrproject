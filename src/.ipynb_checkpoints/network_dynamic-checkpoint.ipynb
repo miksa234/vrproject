{
 "cells": [
  {
   "cell_type": "code",
   "execution_count": 1,
   "id": "3c5889e6",
   "metadata": {},
   "outputs": [],
   "source": [
    "import os\n",
    "from collections import defaultdict\n",
    "from datetime import datetime\n",
    "import copy\n",
    "\n",
    "from scipy.optimize import curve_fit\n",
    "import numpy as np\n",
    "import pandas as pd\n",
    "import networkx as nx\n",
    "\n",
    "import matplotlib.pyplot as plt\n",
    "import matplotlib.cm as cm\n",
    "import matplotlib \n",
    "\n",
    "matplotlib.rcParams.update({'font.size': 15})\n",
    "%matplotlib inline\n",
    "\n",
    "import plotly\n",
    "import plotly.graph_objs as pgo\n",
    "\n",
    "from nxplot_3d import get_trace_nodes_3D_legend\n",
    "from nxplot_3d import get_trace_edges_3D\n",
    "from nxplot_3d import plot_3D\n",
    "\n",
    "from export_import import export_data\n",
    "from export_import import read_data\n",
    "\n",
    "from csv_to_network import get_graph"
   ]
  },
  {
   "cell_type": "code",
   "execution_count": 2,
   "id": "419735c9",
   "metadata": {},
   "outputs": [],
   "source": [
    "path= '../data/dynamic/'\n",
    "file_names =  sorted(os.listdir(path), key=lambda x: datetime.strptime(x, '%Y-%m.csv'))\n",
    "data = pd.DataFrame(columns=['package', 'requirement', 'time'])\n",
    "\n",
    "for i, fname in enumerate(file_names):\n",
    "    dframe_load = pd.read_csv(path+ fname, sep='|', keep_default_na=False)\n",
    "    dframe_load = dframe_load.assign(time=[fname[:-4] for _ in range(len(dframe_load))])\n",
    "    data = pd.concat([data, dframe_load], ignore_index=True)\n",
    "    "
   ]
  },
  {
   "cell_type": "code",
   "execution_count": 3,
   "id": "865c5701",
   "metadata": {},
   "outputs": [],
   "source": [
    "class TDiGraph(nx.DiGraph):\n",
    "    def __init__(self, all_edges:pd.DataFrame):\n",
    "        self.t = 0\n",
    "        \n",
    "        self.all_edges = all_edges\n",
    "        self.all_nodes = all_edges.drop_duplicates(subset=self.all_edges.keys()[0], ignore_index=True)\n",
    "        \n",
    "        self.time_edges = self.all_edges['time']\n",
    "        self.time_nodes = self.all_nodes['time']\n",
    "        self.time_steps = sorted(list(set(self.time_nodes)), key=lambda x: datetime.strptime(x, '%Y-%m'))\n",
    "        \n",
    "        super(TDiGraph, self).__init__()\n",
    "    \n",
    "    def __str__(self):\n",
    "        return f'TDiGraph with {self.number_of_nodes()} nodes and {self.number_of_edges()} edges at time {self.t}'\n",
    "    \n",
    "    def __repr__(self):\n",
    "        return 'time extention of networkx.classes.digraph.DiGraph'\n",
    "        \n",
    "    def forward(self):\n",
    "        if self.t <= len(self.time_steps):\n",
    "            self.add_edges_from(zip(self.all_edges[self.time_edges==self.time_steps[self.t]].iloc[:,0],\\\n",
    "                                       self.all_edges[self.time_edges==self.time_steps[self.t]].iloc[:,1]))\n",
    "            self.remove_nodes_from([''])\n",
    "            self.t += 1\n",
    "        else:\n",
    "            raise GeneratorError(f'Max t={len(self.time_steps) + 1} reached')\n",
    "            \n",
    "    \n",
    "    def backward(self):\n",
    "        if self.t != 0:\n",
    "            self.remove_edges_from(zip(self.all_edges[self.time_edges==self.time_steps[self.t]].iloc[:,0],\\\n",
    "                                       self.all_edges[self.time_edges==self.time_steps[self.t]].iloc[:,1]))\n",
    "            self.remove_nodes_from([''])\n",
    "            self.t -= 1\n",
    "        else:\n",
    "            raise GeneratorError('Time t=0 reached')\n"
   ]
  },
  {
   "cell_type": "code",
   "execution_count": 9,
   "id": "efe2080c",
   "metadata": {},
   "outputs": [],
   "source": [
    "def tdg_draw(TDG, posDG3D=None, fname=None, auto_open=True):\n",
    "    max_deg = max(TDG.degree(), key=lambda x: x[1])[1]\n",
    "    if max_deg == 0:\n",
    "        max_deg = 1\n",
    "    if posDG3D == None:\n",
    "        posDG3D = nx.spring_layout(TDG, dim=3, k=1/np.sqrt(TDG.number_of_nodes())*10)\n",
    "    if fname == None:\n",
    "        fname = str(TDG.time_steps[TDG.t])\n",
    "    partition = {node: 1 for node in TDG.nodes()}\n",
    "    cmap = cm.get_cmap('Reds', max(partition.values()) + 1)\n",
    "    export_data(TDG, posDG3D, partition, cmap, path='../nodes_edges/dynamic/', step=TDG.t, max_deg=max_deg)\n",
    "    G, d_hoverinfo, d_nodecolors, d_nodesize, posG3D = read_data(f'../nodes_edges/dynamic/nodes_{TDG.t}.csv',\n",
    "                                                                 f'../nodes_edges/dynamic/edges_{TDG.t}.csv')\n",
    "    node_trace = get_trace_nodes_3D_legend(posG3D, d_hoverinfo, d_nodecolors, d_nodesize)\n",
    "    edge_trace = get_trace_edges_3D(G, posG3D, color = '#C7C7C7', opac = 0.2, linewidth=0.5)\n",
    "    data = [*node_trace, edge_trace]\n",
    "    plot_3D(data, path='../plots/dynamic/', fname=fname, scheme='dark', auto_open=auto_open)\n",
    "\n",
    "def get_growth(TDG, k_i_t:dict):\n",
    "    add_degrees = TDG.in_degree\n",
    "    k_i_t.update({node: [*k_i_t[node], int(deg)] for node, deg in add_degrees})\n",
    "    return k_i_t"
   ]
  },
  {
   "cell_type": "markdown",
   "id": "5f947998",
   "metadata": {},
   "source": [
    "# Growth Exponent"
   ]
  },
  {
   "cell_type": "code",
   "execution_count": 5,
   "id": "497bceea",
   "metadata": {},
   "outputs": [],
   "source": [
    "TDG = TDiGraph(data)\n",
    "k_i_t = {node: [] for node in TDG.all_nodes.iloc[:,0]}\n",
    "for i in range(len(TDG.time_steps)):\n",
    "    TDG.forward()\n",
    "    get_growth(TDG, k_i_t)"
   ]
  },
  {
   "cell_type": "code",
   "execution_count": 6,
   "id": "0c4802d1",
   "metadata": {},
   "outputs": [],
   "source": [
    "k_i_t = sorted(list(k_i_t.items()), key=lambda x: max(x[1]), reverse=True)"
   ]
  },
  {
   "cell_type": "code",
   "execution_count": 7,
   "id": "2ce7ea35",
   "metadata": {},
   "outputs": [
    {
     "name": "stderr",
     "output_type": "stream",
     "text": [
      "/home/miksa/.local/lib/python3.10/site-packages/scipy/optimize/_minpack_py.py:792: RuntimeWarning: overflow encountered in square\n",
      "  cost = np.sum(infodict['fvec'] ** 2)\n",
      "/home/miksa/.local/lib/python3.10/site-packages/scipy/optimize/_minpack_py.py:833: OptimizeWarning: Covariance of the parameters could not be estimated\n",
      "  warnings.warn('Covariance of the parameters could not be estimated',\n"
     ]
    },
    {
     "data": {
      "text/plain": [
       "Text(0, 0.5, '$k^{in}_i(t)$')"
      ]
     },
     "execution_count": 7,
     "metadata": {},
     "output_type": "execute_result"
    },
    {
     "data": {
      "image/png": "[encoded data removed]",
      "text/plain": [
       "<Figure size 720x576 with 1 Axes>"
      ]
     },
     "metadata": {
      "needs_background": "light"
     },
     "output_type": "display_data"
    }
   ],
   "source": [
    "def fit_lin(x, β, B):\n",
    "    return β * x + B \n",
    "\n",
    "time_steps = len(TDG.time_steps)\n",
    "years = sorted(list(set([date[:4] for date in TDG.time_steps])), key=lambda x: datetime.strptime(x, '%Y'))\n",
    "fig, ax = plt.subplots(1, 1, figsize=[10, 8])\n",
    "cmap = cm.get_cmap('tab10').colors\n",
    "j=0\n",
    "β_i = {}\n",
    "\n",
    "for node, k_i in [k_i_t[i] for i in range(len(k_i_t)) if max(k_i_t[i][1]) > 0 and len(k_i_t[i][1]) > 5]:\n",
    "    try:\n",
    "        time_creation = time_steps - len(k_i)\n",
    "        time_seq = np.arange(time_creation, time_steps)\n",
    "        log_k_i = np.log(k_i, where=(np.array(k_i) > 0))\n",
    "        popt, pcov = curve_fit(fit_lin, time_seq, log_k_i)\n",
    "        if j < 10:\n",
    "            ax.plot(time_seq, k_i, '.', label=node + f' β_i = {round(popt[0], 5)}', color=cmap[j])\n",
    "            j+=1\n",
    "        if popt[0] < 0:\n",
    "            β_i[node] =  0\n",
    "        else:\n",
    "            β_i[node] =  popt[0]\n",
    "    except:\n",
    "        continue\n",
    "    \n",
    "\n",
    "ax.set_xticks([time_steps/len(years)*i for i in range(len(years))])\n",
    "ax.set_xticklabels(years, rotation='vertical')\n",
    "ax.legend(loc='best')\n",
    "ax.set_title('Indegree Growth')\n",
    "ax.set_xlabel(r'$t$', fontsize=15)\n",
    "ax.set_ylabel(r'$k^{in}_i(t)$', fontsize=15)"
   ]
  },
  {
   "cell_type": "code",
   "execution_count": 8,
   "id": "beb25be6",
   "metadata": {},
   "outputs": [
    {
     "name": "stderr",
     "output_type": "stream",
     "text": [
      "/tmp/ipykernel_86147/3331090267.py:2: VisibleDeprecationWarning: Passing `normed=True` on non-uniform bins has always been broken, and computes neither the probability density function nor the probability mass function. The result is only correct if the bins are uniform, when density=True will produce the same result anyway. The argument will be removed in a future version of numpy.\n",
      "  ϱ_η = np.histogram(lβ/max(lβ), bins=1000, normed=True)\n"
     ]
    },
    {
     "data": {
      "text/plain": [
       "Text(0.5, 1.0, 'Log-Log plot of the Fitness Distribution')"
      ]
     },
     "execution_count": 8,
     "metadata": {},
     "output_type": "execute_result"
    },
    {
     "data": {
      "image/png": "[encoded data removed]",
      "text/plain": [
       "<Figure size 720x576 with 1 Axes>"
      ]
     },
     "metadata": {
      "needs_background": "light"
     },
     "output_type": "display_data"
    }
   ],
   "source": [
    "lβ = np.array(list(β_i.values()))\n",
    "ϱ_η = np.histogram(lβ/max(lβ), bins=1000, normed=True)\n",
    "plt.figure(figsize=[10,8])\n",
    "plt.plot(ϱ_η[1][1:], ϱ_η[0]/sum(ϱ_η[0]), '.-')\n",
    "plt.ylabel(r'$\\ln(\\rho(\\eta))$', fontsize=15)\n",
    "plt.xlabel(r'$\\ln(\\eta)$', fontsize=15)\n",
    "plt.title('Log-Log plot of the Fitness Distribution', fontsize=15)"
   ]
  },
  {
   "cell_type": "markdown",
   "id": "8a71715c",
   "metadata": {},
   "source": [
    "# Node Growth"
   ]
  },
  {
   "cell_type": "code",
   "execution_count": 9,
   "id": "cbb86272",
   "metadata": {},
   "outputs": [],
   "source": [
    "TDG = TDiGraph(data)\n",
    "n_nodes = []\n",
    "k_max = []\n",
    "for i in range(len(TDG.time_steps)-1):\n",
    "    TDG.forward()\n",
    "    n_nodes.append(TDG.number_of_nodes())\n",
    "    k_max.append(max(list(TDG.degree()), key=lambda x:x [1])[1])"
   ]
  },
  {
   "cell_type": "code",
   "execution_count": 10,
   "id": "943762b6",
   "metadata": {},
   "outputs": [
    {
     "data": {
      "text/plain": [
       "[Text(0.0, 0, '2005'),\n",
       " Text(11.38888888888889, 0, '2006'),\n",
       " Text(22.77777777777778, 0, '2007'),\n",
       " Text(34.16666666666667, 0, '2008'),\n",
       " Text(45.55555555555556, 0, '2009'),\n",
       " Text(56.94444444444444, 0, '2010'),\n",
       " Text(68.33333333333334, 0, '2011'),\n",
       " Text(79.72222222222223, 0, '2012'),\n",
       " Text(91.11111111111111, 0, '2013'),\n",
       " Text(102.5, 0, '2014'),\n",
       " Text(113.88888888888889, 0, '2015'),\n",
       " Text(125.27777777777779, 0, '2016'),\n",
       " Text(136.66666666666669, 0, '2017'),\n",
       " Text(148.05555555555557, 0, '2018'),\n",
       " Text(159.44444444444446, 0, '2019'),\n",
       " Text(170.83333333333334, 0, '2020'),\n",
       " Text(182.22222222222223, 0, '2021'),\n",
       " Text(193.61111111111111, 0, '2022')]"
      ]
     },
     "execution_count": 10,
     "metadata": {},
     "output_type": "execute_result"
    },
    {
     "data": {
      "image/png": "[encoded data removed]",
      "text/plain": [
       "<Figure size 576x432 with 1 Axes>"
      ]
     },
     "metadata": {
      "needs_background": "light"
     },
     "output_type": "display_data"
    }
   ],
   "source": [
    "fig, ax = plt.subplots(1, 1, figsize=[8, 6])\n",
    "ax.plot(n_nodes, '.')\n",
    "ax.set_xticks([len(n_nodes)/len(years)*i for i in range(len(years))])\n",
    "ax.set_xticklabels(years, rotation='vertical')"
   ]
  },
  {
   "cell_type": "markdown",
   "id": "134104e3",
   "metadata": {},
   "source": [
    "# Preferential Attachment"
   ]
  },
  {
   "cell_type": "code",
   "execution_count": 11,
   "id": "943213d4",
   "metadata": {},
   "outputs": [
    {
     "name": "stderr",
     "output_type": "stream",
     "text": [
      "/home/miksa/.local/lib/python3.10/site-packages/scipy/optimize/_minpack_py.py:833: OptimizeWarning: Covariance of the parameters could not be estimated\n",
      "  warnings.warn('Covariance of the parameters could not be estimated',\n"
     ]
    }
   ],
   "source": [
    "Π_i = []\n",
    "deg = []\n",
    "α_i = {}\n",
    "ᾱ = 0; σ_α = 0\n",
    "j = 0\n",
    "for node, k_i in [k_i_t[i] for i in range(len(k_i_t)) if max(k_i_t[i][1]) > 10 and len(k_i_t[i][1]) > 10]:\n",
    "    try:\n",
    "        π_k = np.cumsum(np.gradient(k_i, 1))\n",
    "        popt, pcov = curve_fit(fit_lin, k_i, π_k)\n",
    "        if popt[0] < 0:\n",
    "            continue\n",
    "        α_i[node] = popt[0]\n",
    "        ᾱ += popt[0] ; σ_α += np.sqrt(pcov[0, 0])\n",
    "        j += 1\n",
    "    except:\n",
    "        continue\n",
    "ᾱ = ᾱ/j; σ_α +=  σ_α/j"
   ]
  },
  {
   "cell_type": "markdown",
   "id": "3ebb8146",
   "metadata": {},
   "source": [
    "# 3D Light ray layout"
   ]
  },
  {
   "cell_type": "code",
   "execution_count": 10,
   "id": "be249d19",
   "metadata": {},
   "outputs": [],
   "source": [
    "TDG = TDiGraph(data)\n",
    "for i in range(len(TDG.time_steps)-1):\n",
    "#for i in range(100):\n",
    "    TDG.forward()\n",
    "TDG.remove_nodes_from([node for node, degree in TDG.in_degree if degree < 50])"
   ]
  },
  {
   "cell_type": "code",
   "execution_count": 47,
   "id": "be613c4b",
   "metadata": {},
   "outputs": [],
   "source": [
    "def random_in_circle(R):\n",
    "    ϕ = np.random.uniform(0, R) * 2 * np.pi\n",
    "    r = np.sqrt(np.random.uniform(0, R))\n",
    "    x = r * np.cos(ϕ)\n",
    "    y = r * np.sin(ϕ)\n",
    "    return x, y\n",
    "\n",
    "def ray_layout(TDG):\n",
    "    degree = list(dict(TDG.degree).values())\n",
    "    dist, layers = np.histogram(degree, bins='sqrt')\n",
    "    posDG3D = {}\n",
    "    for n, k in TDG.degree:\n",
    "        for i in range(len(layers)-1):\n",
    "            if k <= layers[i+1]:\n",
    "                x, y = random_in_circle(dist[i]/2)\n",
    "                z = \n",
    "                posDG3D[n] = [x, y, z]\n",
    "                break\n",
    "    return posDG3D"
   ]
  },
  {
   "cell_type": "code",
   "execution_count": 55,
   "id": "38990121",
   "metadata": {},
   "outputs": [
    {
     "name": "stdout",
     "output_type": "stream",
     "text": [
      "Opening in existing browser session.\n"
     ]
    },
    {
     "name": "stderr",
     "output_type": "stream",
     "text": [
      "[86626:86626:0100/000000.821733:ERROR:sandbox_linux.cc(377)] InitializeSandbox() called with multiple threads in process gpu-process.\n"
     ]
    }
   ],
   "source": [
    "#TDG = TDiGraph(data)\n",
    "#for i in range(len(TDG.time_steps)):\n",
    "#    TDG.forward()\n",
    "#TDG.remove_nodes_from([node for node, degree in TDG.in_degree if degree < 50])\n",
    "\n",
    "posDG3D = ray_layout(TDG)\n",
    "tdg_draw(TDG, posDG3D, fname='test_sqrt')"
   ]
  },
  {
   "cell_type": "code",
   "execution_count": null,
   "id": "47ed2a59",
   "metadata": {},
   "outputs": [],
   "source": []
  },
  {
   "cell_type": "code",
   "execution_count": 70,
   "id": "802d0d8b",
   "metadata": {},
   "outputs": [],
   "source": [
    "\n",
    "TDG = TDiGraph(data)\n",
    "for i in range(len(TDG.time_steps)):\n",
    "    TDG.forward()\n",
    "    if TDG.time_steps[i][-2:]=='-1' or TDG.time_steps[i]=='2022-4':\n",
    "        try:\n",
    "            G = copy.deepcopy(TDG)\n",
    "            G.remove_nodes_from([node for node, degree in G.in_degree if degree <= int(i/(len(TDG.time_steps)/50))])\n",
    "            posDG3D = ray_layout(G)\n",
    "            tdg_draw(G, posDG3D, fname=str(TDG.time_steps[i]), auto_open=False)\n",
    "        except:\n",
    "            continue"
   ]
  },
  {
   "cell_type": "code",
   "execution_count": null,
   "id": "4e0dd14b",
   "metadata": {},
   "outputs": [],
   "source": []
  },
  {
   "cell_type": "code",
   "execution_count": null,
   "id": "e09799d8",
   "metadata": {},
   "outputs": [],
   "source": []
  },
  {
   "cell_type": "code",
   "execution_count": null,
   "id": "cc17324b",
   "metadata": {},
   "outputs": [],
   "source": []
  },
  {
   "cell_type": "code",
   "execution_count": null,
   "id": "1b9dcd90",
   "metadata": {},
   "outputs": [],
   "source": []
  }
 ],
 "metadata": {
  "kernelspec": {
   "display_name": "Python 3",
   "language": "python",
   "name": "python3"
  },
  "language_info": {
   "codemirror_mode": {
    "name": "ipython",
    "version": 3
   },
   "file_extension": ".py",
   "mimetype": "text/x-python",
   "name": "python",
   "nbconvert_exporter": "python",
   "pygments_lexer": "ipython3",
   "version": "3.10.4"
  }
 },
 "nbformat": 4,
 "nbformat_minor": 5
}
